{
 "cells": [
  {
   "cell_type": "markdown",
   "metadata": {},
   "source": [
    "## Example of Testing EfficientNet Model\n"
   ]
  },
  {
   "cell_type": "code",
   "execution_count": null,
   "metadata": {},
   "outputs": [],
   "source": [
    "import timm\n",
    "import albumentations as A\n",
    "from albumentations.pytorch import ToTensorV2\n",
    "import numpy as np \n",
    "import pandas as pd \n",
    "import matplotlib.pyplot as plt\n",
    "import matplotlib.image as mpimg\n",
    "import torchvision.transforms as transforms\n",
    "import torchvision.datasets as datasets\n",
    "import torch\n",
    "import torch.nn as nn\n",
    "import torch.nn.functional as F\n",
    "from sklearn import metrics\n",
    "import cv2\n",
    "from tqdm import tqdm\n",
    "from datetime import datetime"
   ]
  },
  {
   "cell_type": "code",
   "execution_count": null,
   "metadata": {},
   "outputs": [],
   "source": [
    "image_size = 260\n",
    "batch_size = 32\n",
    "MODEL_PATH = 'PUT_MODEL_PATH'"
   ]
  },
  {
   "cell_type": "code",
   "execution_count": null,
   "metadata": {},
   "outputs": [],
   "source": [
    "def get_device():\n",
    "    if torch.cuda.is_available():\n",
    "        return torch.device(\"cuda\")\n",
    "    return torch.device(\"cpu\")\n",
    "device = get_device()"
   ]
  },
  {
   "cell_type": "code",
   "execution_count": null,
   "metadata": {},
   "outputs": [],
   "source": [
    "class DatasetTransformer_prediction(torch.utils.data.Dataset):\n",
    "    def __init__(self, df, augmented=False, transform=None):\n",
    "        \n",
    "        self.transform = A.Compose([\n",
    "            A.Resize(image_size, image_size),\n",
    "            ToTensorV2()\n",
    "        ])\n",
    "        self.df = df\n",
    "        target_cols = df_test.iloc[:, 1:12].columns.tolist()\n",
    "        self.labels = self.df[target_cols].values\n",
    "        self.file_names = df['StudyInstanceUID'].values\n",
    "        \n",
    "    def __len__(self):\n",
    "        return len(self.df)\n",
    "    \n",
    "    def __getitem__(self, idx):\n",
    "        image_name = self.file_names[idx]\n",
    "        image_path = f'../input/ranzcr-clip-catheter-line-classification/test/{image_name}.jpg'\n",
    "        image = cv2.imread(image_path)\n",
    "        image = cv2.cvtColor(image, cv2.COLOR_BGR2RGB)\n",
    "        \n",
    "        image_t = self.transform(image=image)['image']\n",
    "        data = { \n",
    "            \"image\": image_t.float(), \n",
    "        }\n",
    "        \n",
    "        return data"
   ]
  },
  {
   "cell_type": "code",
   "execution_count": null,
   "metadata": {},
   "outputs": [],
   "source": [
    "class EfficientNet(nn.Module):\n",
    "    def __init__(self, model_name, pretrained=False):\n",
    "        super().__init__()\n",
    "        \n",
    "        model = timm.create_model(model_name, pretrained=pretrained)\n",
    "            \n",
    "        n_features = model.classifier.in_features\n",
    "        \n",
    "        self.model = nn.Sequential(*list(model.children())[:-1])\n",
    "        self.drop_out = nn.Dropout(p=0.5)\n",
    "        self.fc = nn.Linear(n_features, 11)\n",
    "        \n",
    "    def forward(self, x):\n",
    "        x = self.model(x)\n",
    "        x = self.drop_out(x)\n",
    "        x = self.fc(x)\n",
    "        x = torch.sigmoid(x)\n",
    "        return x"
   ]
  },
  {
   "cell_type": "code",
   "execution_count": null,
   "metadata": {},
   "outputs": [],
   "source": [
    "def get_prediction(model, test_dataset_loader, device):\n",
    "    with torch.no_grad():\n",
    "        model.eval()\n",
    "        probs = []\n",
    "        size = len(test_dataset_loader)\n",
    "        i = 0\n",
    "        for data in test_dataset_loader:\n",
    "            print(f\"{int(i*100/size)}%\", end=\"\\r\")\n",
    "            image_input = data[\"image\"].to(device)\n",
    "            output = model(image_input).to('cpu').numpy()\n",
    "            probs.append(output)\n",
    "            i += 1\n",
    "        probs = np.concatenate(probs)\n",
    "    return probs"
   ]
  },
  {
   "cell_type": "code",
   "execution_count": null,
   "metadata": {},
   "outputs": [],
   "source": [
    "model = EfficientNet(model_name=\"efficientnet_b2\")\n",
    "model.load_state_dict(torch.load(MODEL_PATH))\n",
    "model.to(device)\n",
    "model.eval()"
   ]
  },
  {
   "cell_type": "code",
   "execution_count": null,
   "metadata": {},
   "outputs": [],
   "source": [
    "df_test = pd.read_csv('./PATH_TO_DIR/sample_submission.csv')\n",
    "test_dataset = DatasetTransformer_prediction(df_test)\n",
    "test_dataset_loader = torch.utils.data.DataLoader(dataset=test_dataset, batch_size=batch_size)"
   ]
  },
  {
   "cell_type": "code",
   "execution_count": null,
   "metadata": {},
   "outputs": [],
   "source": [
    "target_cols = df_test.iloc[:, 1:12].columns.tolist()\n",
    "df_test[target_cols] = predictions\n",
    "df_test[['StudyInstanceUID'] + target_cols].to_csv('submission.csv', index=False)\n",
    "df_test.head(20)"
   ]
  }
 ],
 "metadata": {
  "kernelspec": {
   "display_name": "Python 3",
   "language": "python",
   "name": "python3"
  },
  "language_info": {
   "codemirror_mode": {
    "name": "ipython",
    "version": 3
   },
   "file_extension": ".py",
   "mimetype": "text/x-python",
   "name": "python",
   "nbconvert_exporter": "python",
   "pygments_lexer": "ipython3",
   "version": "3.9.0"
  }
 },
 "nbformat": 4,
 "nbformat_minor": 4
}
