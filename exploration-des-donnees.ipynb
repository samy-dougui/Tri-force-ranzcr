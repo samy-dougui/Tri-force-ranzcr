{
 "cells": [
  {
   "cell_type": "markdown",
   "metadata": {},
   "source": [
    "# **Exploration des données - Projet RANZCR CLiP - Catheter and Line Position Challenge**"
   ]
  },
  {
   "cell_type": "code",
   "execution_count": 7,
   "metadata": {
    "execution": {
     "iopub.execute_input": "2021-02-11T17:24:57.39954Z",
     "iopub.status.busy": "2021-02-11T17:24:57.398802Z",
     "iopub.status.idle": "2021-02-11T17:24:58.337134Z",
     "shell.execute_reply": "2021-02-11T17:24:58.337653Z"
    },
    "papermill": {
     "duration": 0.955967,
     "end_time": "2021-02-11T17:24:58.337813",
     "exception": false,
     "start_time": "2021-02-11T17:24:57.381846",
     "status": "completed"
    },
    "tags": []
   },
   "outputs": [],
   "source": [
    "import numpy as np\n",
    "import pandas as pd\n",
    "from PIL import Image, ImageDraw\n",
    "from matplotlib import pyplot as plt\n",
    "import seaborn as sns\n",
    "import matplotlib.pyplot as plt\n",
    "import matplotlib.image as mpimg\n",
    "import ast\n",
    "from ast import literal_eval\n",
    "import cv2\n",
    "import shutil, random, os"
   ]
  },
  {
   "cell_type": "code",
   "execution_count": 8,
   "metadata": {
    "execution": {
     "iopub.execute_input": "2021-02-11T17:24:58.365603Z",
     "iopub.status.busy": "2021-02-11T17:24:58.364954Z",
     "iopub.status.idle": "2021-02-11T17:24:58.370089Z",
     "shell.execute_reply": "2021-02-11T17:24:58.369531Z"
    },
    "papermill": {
     "duration": 0.019891,
     "end_time": "2021-02-11T17:24:58.370222",
     "exception": false,
     "start_time": "2021-02-11T17:24:58.350331",
     "status": "completed"
    },
    "tags": []
   },
   "outputs": [],
   "source": [
    "# BASE_DIR est le path qui mène jusqu'aux csv \"train.csv\",\"train_annotations.csv\". Ce path mène aussi jusqu'au dossier \"train\", qui contient\n",
    "# les radiographies du train_set en format jpg\n",
    "BASE_DIR = \"\""
   ]
  },
  {
   "cell_type": "markdown",
   "metadata": {},
   "source": [
    "### **Prévisualisation des données**"
   ]
  },
  {
   "cell_type": "code",
   "execution_count": 9,
   "metadata": {
    "execution": {
     "iopub.execute_input": "2021-02-11T17:24:58.423294Z",
     "iopub.status.busy": "2021-02-11T17:24:58.422612Z",
     "iopub.status.idle": "2021-02-11T17:24:58.580993Z",
     "shell.execute_reply": "2021-02-11T17:24:58.581516Z"
    },
    "papermill": {
     "duration": 0.174107,
     "end_time": "2021-02-11T17:24:58.581659",
     "exception": false,
     "start_time": "2021-02-11T17:24:58.407552",
     "status": "completed"
    },
    "tags": []
   },
   "outputs": [
    {
     "data": {
      "text/html": [
       "<div>\n",
       "<style scoped>\n",
       "    .dataframe tbody tr th:only-of-type {\n",
       "        vertical-align: middle;\n",
       "    }\n",
       "\n",
       "    .dataframe tbody tr th {\n",
       "        vertical-align: top;\n",
       "    }\n",
       "\n",
       "    .dataframe thead th {\n",
       "        text-align: right;\n",
       "    }\n",
       "</style>\n",
       "<table border=\"1\" class=\"dataframe\">\n",
       "  <thead>\n",
       "    <tr style=\"text-align: right;\">\n",
       "      <th></th>\n",
       "      <th>ETT - Abnormal</th>\n",
       "      <th>ETT - Borderline</th>\n",
       "      <th>ETT - Normal</th>\n",
       "      <th>NGT - Abnormal</th>\n",
       "      <th>NGT - Borderline</th>\n",
       "      <th>NGT - Incompletely Imaged</th>\n",
       "      <th>NGT - Normal</th>\n",
       "      <th>CVC - Abnormal</th>\n",
       "      <th>CVC - Borderline</th>\n",
       "      <th>CVC - Normal</th>\n",
       "      <th>Swan Ganz Catheter Present</th>\n",
       "      <th>PatientID</th>\n",
       "    </tr>\n",
       "    <tr>\n",
       "      <th>StudyInstanceUID</th>\n",
       "      <th></th>\n",
       "      <th></th>\n",
       "      <th></th>\n",
       "      <th></th>\n",
       "      <th></th>\n",
       "      <th></th>\n",
       "      <th></th>\n",
       "      <th></th>\n",
       "      <th></th>\n",
       "      <th></th>\n",
       "      <th></th>\n",
       "      <th></th>\n",
       "    </tr>\n",
       "  </thead>\n",
       "  <tbody>\n",
       "    <tr>\n",
       "      <th>1.2.826.0.1.3680043.8.498.26697628953273228189375557799582420561</th>\n",
       "      <td>0</td>\n",
       "      <td>0</td>\n",
       "      <td>0</td>\n",
       "      <td>0</td>\n",
       "      <td>0</td>\n",
       "      <td>0</td>\n",
       "      <td>1</td>\n",
       "      <td>0</td>\n",
       "      <td>0</td>\n",
       "      <td>0</td>\n",
       "      <td>0</td>\n",
       "      <td>ec89415d1</td>\n",
       "    </tr>\n",
       "    <tr>\n",
       "      <th>1.2.826.0.1.3680043.8.498.46302891597398758759818628675365157729</th>\n",
       "      <td>0</td>\n",
       "      <td>0</td>\n",
       "      <td>1</td>\n",
       "      <td>0</td>\n",
       "      <td>0</td>\n",
       "      <td>1</td>\n",
       "      <td>0</td>\n",
       "      <td>0</td>\n",
       "      <td>0</td>\n",
       "      <td>1</td>\n",
       "      <td>0</td>\n",
       "      <td>bf4c6da3c</td>\n",
       "    </tr>\n",
       "    <tr>\n",
       "      <th>1.2.826.0.1.3680043.8.498.23819260719748494858948050424870692577</th>\n",
       "      <td>0</td>\n",
       "      <td>0</td>\n",
       "      <td>0</td>\n",
       "      <td>0</td>\n",
       "      <td>0</td>\n",
       "      <td>0</td>\n",
       "      <td>0</td>\n",
       "      <td>0</td>\n",
       "      <td>1</td>\n",
       "      <td>0</td>\n",
       "      <td>0</td>\n",
       "      <td>3fc1c97e5</td>\n",
       "    </tr>\n",
       "    <tr>\n",
       "      <th>1.2.826.0.1.3680043.8.498.68286643202323212801283518367144358744</th>\n",
       "      <td>0</td>\n",
       "      <td>0</td>\n",
       "      <td>0</td>\n",
       "      <td>0</td>\n",
       "      <td>0</td>\n",
       "      <td>0</td>\n",
       "      <td>0</td>\n",
       "      <td>1</td>\n",
       "      <td>0</td>\n",
       "      <td>0</td>\n",
       "      <td>0</td>\n",
       "      <td>c31019814</td>\n",
       "    </tr>\n",
       "    <tr>\n",
       "      <th>1.2.826.0.1.3680043.8.498.10050203009225938259119000528814762175</th>\n",
       "      <td>0</td>\n",
       "      <td>0</td>\n",
       "      <td>0</td>\n",
       "      <td>0</td>\n",
       "      <td>0</td>\n",
       "      <td>0</td>\n",
       "      <td>0</td>\n",
       "      <td>0</td>\n",
       "      <td>0</td>\n",
       "      <td>1</td>\n",
       "      <td>0</td>\n",
       "      <td>207685cd1</td>\n",
       "    </tr>\n",
       "  </tbody>\n",
       "</table>\n",
       "</div>"
      ],
      "text/plain": [
       "                                                    ETT - Abnormal  \\\n",
       "StudyInstanceUID                                                     \n",
       "1.2.826.0.1.3680043.8.498.266976289532732281893...               0   \n",
       "1.2.826.0.1.3680043.8.498.463028915973987587598...               0   \n",
       "1.2.826.0.1.3680043.8.498.238192607197484948589...               0   \n",
       "1.2.826.0.1.3680043.8.498.682866432023232128012...               0   \n",
       "1.2.826.0.1.3680043.8.498.100502030092259382591...               0   \n",
       "\n",
       "                                                    ETT - Borderline  \\\n",
       "StudyInstanceUID                                                       \n",
       "1.2.826.0.1.3680043.8.498.266976289532732281893...                 0   \n",
       "1.2.826.0.1.3680043.8.498.463028915973987587598...                 0   \n",
       "1.2.826.0.1.3680043.8.498.238192607197484948589...                 0   \n",
       "1.2.826.0.1.3680043.8.498.682866432023232128012...                 0   \n",
       "1.2.826.0.1.3680043.8.498.100502030092259382591...                 0   \n",
       "\n",
       "                                                    ETT - Normal  \\\n",
       "StudyInstanceUID                                                   \n",
       "1.2.826.0.1.3680043.8.498.266976289532732281893...             0   \n",
       "1.2.826.0.1.3680043.8.498.463028915973987587598...             1   \n",
       "1.2.826.0.1.3680043.8.498.238192607197484948589...             0   \n",
       "1.2.826.0.1.3680043.8.498.682866432023232128012...             0   \n",
       "1.2.826.0.1.3680043.8.498.100502030092259382591...             0   \n",
       "\n",
       "                                                    NGT - Abnormal  \\\n",
       "StudyInstanceUID                                                     \n",
       "1.2.826.0.1.3680043.8.498.266976289532732281893...               0   \n",
       "1.2.826.0.1.3680043.8.498.463028915973987587598...               0   \n",
       "1.2.826.0.1.3680043.8.498.238192607197484948589...               0   \n",
       "1.2.826.0.1.3680043.8.498.682866432023232128012...               0   \n",
       "1.2.826.0.1.3680043.8.498.100502030092259382591...               0   \n",
       "\n",
       "                                                    NGT - Borderline  \\\n",
       "StudyInstanceUID                                                       \n",
       "1.2.826.0.1.3680043.8.498.266976289532732281893...                 0   \n",
       "1.2.826.0.1.3680043.8.498.463028915973987587598...                 0   \n",
       "1.2.826.0.1.3680043.8.498.238192607197484948589...                 0   \n",
       "1.2.826.0.1.3680043.8.498.682866432023232128012...                 0   \n",
       "1.2.826.0.1.3680043.8.498.100502030092259382591...                 0   \n",
       "\n",
       "                                                    NGT - Incompletely Imaged  \\\n",
       "StudyInstanceUID                                                                \n",
       "1.2.826.0.1.3680043.8.498.266976289532732281893...                          0   \n",
       "1.2.826.0.1.3680043.8.498.463028915973987587598...                          1   \n",
       "1.2.826.0.1.3680043.8.498.238192607197484948589...                          0   \n",
       "1.2.826.0.1.3680043.8.498.682866432023232128012...                          0   \n",
       "1.2.826.0.1.3680043.8.498.100502030092259382591...                          0   \n",
       "\n",
       "                                                    NGT - Normal  \\\n",
       "StudyInstanceUID                                                   \n",
       "1.2.826.0.1.3680043.8.498.266976289532732281893...             1   \n",
       "1.2.826.0.1.3680043.8.498.463028915973987587598...             0   \n",
       "1.2.826.0.1.3680043.8.498.238192607197484948589...             0   \n",
       "1.2.826.0.1.3680043.8.498.682866432023232128012...             0   \n",
       "1.2.826.0.1.3680043.8.498.100502030092259382591...             0   \n",
       "\n",
       "                                                    CVC - Abnormal  \\\n",
       "StudyInstanceUID                                                     \n",
       "1.2.826.0.1.3680043.8.498.266976289532732281893...               0   \n",
       "1.2.826.0.1.3680043.8.498.463028915973987587598...               0   \n",
       "1.2.826.0.1.3680043.8.498.238192607197484948589...               0   \n",
       "1.2.826.0.1.3680043.8.498.682866432023232128012...               1   \n",
       "1.2.826.0.1.3680043.8.498.100502030092259382591...               0   \n",
       "\n",
       "                                                    CVC - Borderline  \\\n",
       "StudyInstanceUID                                                       \n",
       "1.2.826.0.1.3680043.8.498.266976289532732281893...                 0   \n",
       "1.2.826.0.1.3680043.8.498.463028915973987587598...                 0   \n",
       "1.2.826.0.1.3680043.8.498.238192607197484948589...                 1   \n",
       "1.2.826.0.1.3680043.8.498.682866432023232128012...                 0   \n",
       "1.2.826.0.1.3680043.8.498.100502030092259382591...                 0   \n",
       "\n",
       "                                                    CVC - Normal  \\\n",
       "StudyInstanceUID                                                   \n",
       "1.2.826.0.1.3680043.8.498.266976289532732281893...             0   \n",
       "1.2.826.0.1.3680043.8.498.463028915973987587598...             1   \n",
       "1.2.826.0.1.3680043.8.498.238192607197484948589...             0   \n",
       "1.2.826.0.1.3680043.8.498.682866432023232128012...             0   \n",
       "1.2.826.0.1.3680043.8.498.100502030092259382591...             1   \n",
       "\n",
       "                                                    Swan Ganz Catheter Present  \\\n",
       "StudyInstanceUID                                                                 \n",
       "1.2.826.0.1.3680043.8.498.266976289532732281893...                           0   \n",
       "1.2.826.0.1.3680043.8.498.463028915973987587598...                           0   \n",
       "1.2.826.0.1.3680043.8.498.238192607197484948589...                           0   \n",
       "1.2.826.0.1.3680043.8.498.682866432023232128012...                           0   \n",
       "1.2.826.0.1.3680043.8.498.100502030092259382591...                           0   \n",
       "\n",
       "                                                    PatientID  \n",
       "StudyInstanceUID                                               \n",
       "1.2.826.0.1.3680043.8.498.266976289532732281893...  ec89415d1  \n",
       "1.2.826.0.1.3680043.8.498.463028915973987587598...  bf4c6da3c  \n",
       "1.2.826.0.1.3680043.8.498.238192607197484948589...  3fc1c97e5  \n",
       "1.2.826.0.1.3680043.8.498.682866432023232128012...  c31019814  \n",
       "1.2.826.0.1.3680043.8.498.100502030092259382591...  207685cd1  "
      ]
     },
     "execution_count": 9,
     "metadata": {},
     "output_type": "execute_result"
    }
   ],
   "source": [
    "data = pd.read_csv(BASE_DIR + \"train.csv\",index_col=0)\n",
    "data_annotated = pd.read_csv(BASE_DIR + \"train_annotations.csv\")\n",
    "\n",
    "data.head()"
   ]
  },
  {
   "cell_type": "code",
   "execution_count": 10,
   "metadata": {},
   "outputs": [
    {
     "data": {
      "text/html": [
       "<div>\n",
       "<style scoped>\n",
       "    .dataframe tbody tr th:only-of-type {\n",
       "        vertical-align: middle;\n",
       "    }\n",
       "\n",
       "    .dataframe tbody tr th {\n",
       "        vertical-align: top;\n",
       "    }\n",
       "\n",
       "    .dataframe thead th {\n",
       "        text-align: right;\n",
       "    }\n",
       "</style>\n",
       "<table border=\"1\" class=\"dataframe\">\n",
       "  <thead>\n",
       "    <tr style=\"text-align: right;\">\n",
       "      <th></th>\n",
       "      <th>StudyInstanceUID</th>\n",
       "      <th>label</th>\n",
       "      <th>data</th>\n",
       "    </tr>\n",
       "  </thead>\n",
       "  <tbody>\n",
       "    <tr>\n",
       "      <th>0</th>\n",
       "      <td>1.2.826.0.1.3680043.8.498.12616281126973421762...</td>\n",
       "      <td>CVC - Normal</td>\n",
       "      <td>[[1487, 1279], [1477, 1168], [1472, 1052], [14...</td>\n",
       "    </tr>\n",
       "    <tr>\n",
       "      <th>1</th>\n",
       "      <td>1.2.826.0.1.3680043.8.498.12616281126973421762...</td>\n",
       "      <td>CVC - Normal</td>\n",
       "      <td>[[1328, 7], [1347, 101], [1383, 193], [1400, 2...</td>\n",
       "    </tr>\n",
       "    <tr>\n",
       "      <th>2</th>\n",
       "      <td>1.2.826.0.1.3680043.8.498.72921907356394389969...</td>\n",
       "      <td>CVC - Borderline</td>\n",
       "      <td>[[801, 1207], [812, 1112], [823, 1023], [842, ...</td>\n",
       "    </tr>\n",
       "    <tr>\n",
       "      <th>3</th>\n",
       "      <td>1.2.826.0.1.3680043.8.498.11697104485452001927...</td>\n",
       "      <td>CVC - Normal</td>\n",
       "      <td>[[1366, 961], [1411, 861], [1453, 751], [1508,...</td>\n",
       "    </tr>\n",
       "    <tr>\n",
       "      <th>4</th>\n",
       "      <td>1.2.826.0.1.3680043.8.498.87704688663091069148...</td>\n",
       "      <td>NGT - Normal</td>\n",
       "      <td>[[1862, 14], [1845, 293], [1801, 869], [1716, ...</td>\n",
       "    </tr>\n",
       "  </tbody>\n",
       "</table>\n",
       "</div>"
      ],
      "text/plain": [
       "                                    StudyInstanceUID             label  \\\n",
       "0  1.2.826.0.1.3680043.8.498.12616281126973421762...      CVC - Normal   \n",
       "1  1.2.826.0.1.3680043.8.498.12616281126973421762...      CVC - Normal   \n",
       "2  1.2.826.0.1.3680043.8.498.72921907356394389969...  CVC - Borderline   \n",
       "3  1.2.826.0.1.3680043.8.498.11697104485452001927...      CVC - Normal   \n",
       "4  1.2.826.0.1.3680043.8.498.87704688663091069148...      NGT - Normal   \n",
       "\n",
       "                                                data  \n",
       "0  [[1487, 1279], [1477, 1168], [1472, 1052], [14...  \n",
       "1  [[1328, 7], [1347, 101], [1383, 193], [1400, 2...  \n",
       "2  [[801, 1207], [812, 1112], [823, 1023], [842, ...  \n",
       "3  [[1366, 961], [1411, 861], [1453, 751], [1508,...  \n",
       "4  [[1862, 14], [1845, 293], [1801, 869], [1716, ...  "
      ]
     },
     "execution_count": 10,
     "metadata": {},
     "output_type": "execute_result"
    }
   ],
   "source": [
    "data_annotated.head()"
   ]
  },
  {
   "cell_type": "code",
   "execution_count": 11,
   "metadata": {},
   "outputs": [
    {
     "name": "stdout",
     "output_type": "stream",
     "text": [
      "Les colonnes du dataset sont: Index(['ETT - Abnormal', 'ETT - Borderline', 'ETT - Normal', 'NGT - Abnormal',\n",
      "       'NGT - Borderline', 'NGT - Incompletely Imaged', 'NGT - Normal',\n",
      "       'CVC - Abnormal', 'CVC - Borderline', 'CVC - Normal',\n",
      "       'Swan Ganz Catheter Present', 'PatientID'],\n",
      "      dtype='object')\n",
      "Le dataset contient 30083 lignes, chacune correspondant à une unique radiographie \n"
     ]
    }
   ],
   "source": [
    "#Colonnes et lignes\n",
    "columns = data.columns\n",
    "nb_rows = data.shape[0]\n",
    "\n",
    "print(\"Les colonnes du dataset sont: {}\".format(columns))\n",
    "print(\"Le dataset contient {} lignes, chacune correspondant à une unique radiographie \".format(nb_rows))"
   ]
  },
  {
   "cell_type": "markdown",
   "metadata": {},
   "source": [
    "### **Patients**"
   ]
  },
  {
   "cell_type": "code",
   "execution_count": 12,
   "metadata": {},
   "outputs": [
    {
     "name": "stdout",
     "output_type": "stream",
     "text": [
      "Le dataset contient des radios de 3255 différents patients\n",
      "      PatientID  Nombre de radiographies\n",
      "0     05029c63a                      172\n",
      "1     55073fece                      167\n",
      "2     26da0d5ad                      148\n",
      "3     8849382d0                      130\n",
      "4     34242119f                      110\n",
      "...         ...                      ...\n",
      "3250  21d94906a                        1\n",
      "3251  f2e813096                        1\n",
      "3252  684622972                        1\n",
      "3253  5a051bcec                        1\n",
      "3254  64a676c8d                        1\n",
      "\n",
      "[3255 rows x 2 columns]\n"
     ]
    }
   ],
   "source": [
    "#Patients\n",
    "\n",
    "patients_list= data[\"PatientID\"].value_counts().rename_axis('PatientID').reset_index(name='Nombre de radiographies') \n",
    "nb_patients = patients_list.shape[0]\n",
    "\n",
    "print(\"Le dataset contient des radios de {} différents patients\".format(nb_patients))\n",
    "print(patients_list)"
   ]
  },
  {
   "cell_type": "code",
   "execution_count": 13,
   "metadata": {},
   "outputs": [
    {
     "name": "stdout",
     "output_type": "stream",
     "text": [
      "Un unique patient peut avoir différentes radios, qui peuvent être classifiées différemment l'une par rapport à l'autre\n"
     ]
    }
   ],
   "source": [
    "#Afficher les labels de différentes radios d'un même patient\n",
    "def print_patient_classes(PatientID):\n",
    "    patient_example = data[data['PatientID']==PatientID]\n",
    "    return patient_example.head()\n",
    "\n",
    "\n",
    "print(\"Un unique patient peut avoir différentes radios, qui peuvent être classifiées différemment l'une par rapport à l'autre\")"
   ]
  },
  {
   "cell_type": "code",
   "execution_count": 14,
   "metadata": {},
   "outputs": [
    {
     "data": {
      "text/html": [
       "<div>\n",
       "<style scoped>\n",
       "    .dataframe tbody tr th:only-of-type {\n",
       "        vertical-align: middle;\n",
       "    }\n",
       "\n",
       "    .dataframe tbody tr th {\n",
       "        vertical-align: top;\n",
       "    }\n",
       "\n",
       "    .dataframe thead th {\n",
       "        text-align: right;\n",
       "    }\n",
       "</style>\n",
       "<table border=\"1\" class=\"dataframe\">\n",
       "  <thead>\n",
       "    <tr style=\"text-align: right;\">\n",
       "      <th></th>\n",
       "      <th>ETT - Abnormal</th>\n",
       "      <th>ETT - Borderline</th>\n",
       "      <th>ETT - Normal</th>\n",
       "      <th>NGT - Abnormal</th>\n",
       "      <th>NGT - Borderline</th>\n",
       "      <th>NGT - Incompletely Imaged</th>\n",
       "      <th>NGT - Normal</th>\n",
       "      <th>CVC - Abnormal</th>\n",
       "      <th>CVC - Borderline</th>\n",
       "      <th>CVC - Normal</th>\n",
       "      <th>Swan Ganz Catheter Present</th>\n",
       "      <th>PatientID</th>\n",
       "    </tr>\n",
       "    <tr>\n",
       "      <th>StudyInstanceUID</th>\n",
       "      <th></th>\n",
       "      <th></th>\n",
       "      <th></th>\n",
       "      <th></th>\n",
       "      <th></th>\n",
       "      <th></th>\n",
       "      <th></th>\n",
       "      <th></th>\n",
       "      <th></th>\n",
       "      <th></th>\n",
       "      <th></th>\n",
       "      <th></th>\n",
       "    </tr>\n",
       "  </thead>\n",
       "  <tbody>\n",
       "    <tr>\n",
       "      <th>1.2.826.0.1.3680043.8.498.33289872132944517059685300521052847970</th>\n",
       "      <td>0</td>\n",
       "      <td>0</td>\n",
       "      <td>1</td>\n",
       "      <td>0</td>\n",
       "      <td>0</td>\n",
       "      <td>0</td>\n",
       "      <td>1</td>\n",
       "      <td>0</td>\n",
       "      <td>0</td>\n",
       "      <td>1</td>\n",
       "      <td>0</td>\n",
       "      <td>05029c63a</td>\n",
       "    </tr>\n",
       "    <tr>\n",
       "      <th>1.2.826.0.1.3680043.8.498.58815494070381425972841494897309562888</th>\n",
       "      <td>0</td>\n",
       "      <td>0</td>\n",
       "      <td>1</td>\n",
       "      <td>0</td>\n",
       "      <td>1</td>\n",
       "      <td>0</td>\n",
       "      <td>0</td>\n",
       "      <td>0</td>\n",
       "      <td>1</td>\n",
       "      <td>1</td>\n",
       "      <td>0</td>\n",
       "      <td>05029c63a</td>\n",
       "    </tr>\n",
       "    <tr>\n",
       "      <th>1.2.826.0.1.3680043.8.498.18423562395321282202151467283211883687</th>\n",
       "      <td>0</td>\n",
       "      <td>0</td>\n",
       "      <td>1</td>\n",
       "      <td>0</td>\n",
       "      <td>0</td>\n",
       "      <td>0</td>\n",
       "      <td>1</td>\n",
       "      <td>0</td>\n",
       "      <td>1</td>\n",
       "      <td>0</td>\n",
       "      <td>0</td>\n",
       "      <td>05029c63a</td>\n",
       "    </tr>\n",
       "    <tr>\n",
       "      <th>1.2.826.0.1.3680043.8.498.80010847260848855758249955549927520930</th>\n",
       "      <td>0</td>\n",
       "      <td>0</td>\n",
       "      <td>1</td>\n",
       "      <td>0</td>\n",
       "      <td>0</td>\n",
       "      <td>0</td>\n",
       "      <td>1</td>\n",
       "      <td>1</td>\n",
       "      <td>0</td>\n",
       "      <td>0</td>\n",
       "      <td>0</td>\n",
       "      <td>05029c63a</td>\n",
       "    </tr>\n",
       "    <tr>\n",
       "      <th>1.2.826.0.1.3680043.8.498.68620140014200110095088585785330951729</th>\n",
       "      <td>0</td>\n",
       "      <td>0</td>\n",
       "      <td>0</td>\n",
       "      <td>0</td>\n",
       "      <td>0</td>\n",
       "      <td>0</td>\n",
       "      <td>0</td>\n",
       "      <td>0</td>\n",
       "      <td>0</td>\n",
       "      <td>1</td>\n",
       "      <td>1</td>\n",
       "      <td>05029c63a</td>\n",
       "    </tr>\n",
       "  </tbody>\n",
       "</table>\n",
       "</div>"
      ],
      "text/plain": [
       "                                                    ETT - Abnormal  \\\n",
       "StudyInstanceUID                                                     \n",
       "1.2.826.0.1.3680043.8.498.332898721329445170596...               0   \n",
       "1.2.826.0.1.3680043.8.498.588154940703814259728...               0   \n",
       "1.2.826.0.1.3680043.8.498.184235623953212822021...               0   \n",
       "1.2.826.0.1.3680043.8.498.800108472608488557582...               0   \n",
       "1.2.826.0.1.3680043.8.498.686201400142001100950...               0   \n",
       "\n",
       "                                                    ETT - Borderline  \\\n",
       "StudyInstanceUID                                                       \n",
       "1.2.826.0.1.3680043.8.498.332898721329445170596...                 0   \n",
       "1.2.826.0.1.3680043.8.498.588154940703814259728...                 0   \n",
       "1.2.826.0.1.3680043.8.498.184235623953212822021...                 0   \n",
       "1.2.826.0.1.3680043.8.498.800108472608488557582...                 0   \n",
       "1.2.826.0.1.3680043.8.498.686201400142001100950...                 0   \n",
       "\n",
       "                                                    ETT - Normal  \\\n",
       "StudyInstanceUID                                                   \n",
       "1.2.826.0.1.3680043.8.498.332898721329445170596...             1   \n",
       "1.2.826.0.1.3680043.8.498.588154940703814259728...             1   \n",
       "1.2.826.0.1.3680043.8.498.184235623953212822021...             1   \n",
       "1.2.826.0.1.3680043.8.498.800108472608488557582...             1   \n",
       "1.2.826.0.1.3680043.8.498.686201400142001100950...             0   \n",
       "\n",
       "                                                    NGT - Abnormal  \\\n",
       "StudyInstanceUID                                                     \n",
       "1.2.826.0.1.3680043.8.498.332898721329445170596...               0   \n",
       "1.2.826.0.1.3680043.8.498.588154940703814259728...               0   \n",
       "1.2.826.0.1.3680043.8.498.184235623953212822021...               0   \n",
       "1.2.826.0.1.3680043.8.498.800108472608488557582...               0   \n",
       "1.2.826.0.1.3680043.8.498.686201400142001100950...               0   \n",
       "\n",
       "                                                    NGT - Borderline  \\\n",
       "StudyInstanceUID                                                       \n",
       "1.2.826.0.1.3680043.8.498.332898721329445170596...                 0   \n",
       "1.2.826.0.1.3680043.8.498.588154940703814259728...                 1   \n",
       "1.2.826.0.1.3680043.8.498.184235623953212822021...                 0   \n",
       "1.2.826.0.1.3680043.8.498.800108472608488557582...                 0   \n",
       "1.2.826.0.1.3680043.8.498.686201400142001100950...                 0   \n",
       "\n",
       "                                                    NGT - Incompletely Imaged  \\\n",
       "StudyInstanceUID                                                                \n",
       "1.2.826.0.1.3680043.8.498.332898721329445170596...                          0   \n",
       "1.2.826.0.1.3680043.8.498.588154940703814259728...                          0   \n",
       "1.2.826.0.1.3680043.8.498.184235623953212822021...                          0   \n",
       "1.2.826.0.1.3680043.8.498.800108472608488557582...                          0   \n",
       "1.2.826.0.1.3680043.8.498.686201400142001100950...                          0   \n",
       "\n",
       "                                                    NGT - Normal  \\\n",
       "StudyInstanceUID                                                   \n",
       "1.2.826.0.1.3680043.8.498.332898721329445170596...             1   \n",
       "1.2.826.0.1.3680043.8.498.588154940703814259728...             0   \n",
       "1.2.826.0.1.3680043.8.498.184235623953212822021...             1   \n",
       "1.2.826.0.1.3680043.8.498.800108472608488557582...             1   \n",
       "1.2.826.0.1.3680043.8.498.686201400142001100950...             0   \n",
       "\n",
       "                                                    CVC - Abnormal  \\\n",
       "StudyInstanceUID                                                     \n",
       "1.2.826.0.1.3680043.8.498.332898721329445170596...               0   \n",
       "1.2.826.0.1.3680043.8.498.588154940703814259728...               0   \n",
       "1.2.826.0.1.3680043.8.498.184235623953212822021...               0   \n",
       "1.2.826.0.1.3680043.8.498.800108472608488557582...               1   \n",
       "1.2.826.0.1.3680043.8.498.686201400142001100950...               0   \n",
       "\n",
       "                                                    CVC - Borderline  \\\n",
       "StudyInstanceUID                                                       \n",
       "1.2.826.0.1.3680043.8.498.332898721329445170596...                 0   \n",
       "1.2.826.0.1.3680043.8.498.588154940703814259728...                 1   \n",
       "1.2.826.0.1.3680043.8.498.184235623953212822021...                 1   \n",
       "1.2.826.0.1.3680043.8.498.800108472608488557582...                 0   \n",
       "1.2.826.0.1.3680043.8.498.686201400142001100950...                 0   \n",
       "\n",
       "                                                    CVC - Normal  \\\n",
       "StudyInstanceUID                                                   \n",
       "1.2.826.0.1.3680043.8.498.332898721329445170596...             1   \n",
       "1.2.826.0.1.3680043.8.498.588154940703814259728...             1   \n",
       "1.2.826.0.1.3680043.8.498.184235623953212822021...             0   \n",
       "1.2.826.0.1.3680043.8.498.800108472608488557582...             0   \n",
       "1.2.826.0.1.3680043.8.498.686201400142001100950...             1   \n",
       "\n",
       "                                                    Swan Ganz Catheter Present  \\\n",
       "StudyInstanceUID                                                                 \n",
       "1.2.826.0.1.3680043.8.498.332898721329445170596...                           0   \n",
       "1.2.826.0.1.3680043.8.498.588154940703814259728...                           0   \n",
       "1.2.826.0.1.3680043.8.498.184235623953212822021...                           0   \n",
       "1.2.826.0.1.3680043.8.498.800108472608488557582...                           0   \n",
       "1.2.826.0.1.3680043.8.498.686201400142001100950...                           1   \n",
       "\n",
       "                                                    PatientID  \n",
       "StudyInstanceUID                                               \n",
       "1.2.826.0.1.3680043.8.498.332898721329445170596...  05029c63a  \n",
       "1.2.826.0.1.3680043.8.498.588154940703814259728...  05029c63a  \n",
       "1.2.826.0.1.3680043.8.498.184235623953212822021...  05029c63a  \n",
       "1.2.826.0.1.3680043.8.498.800108472608488557582...  05029c63a  \n",
       "1.2.826.0.1.3680043.8.498.686201400142001100950...  05029c63a  "
      ]
     },
     "execution_count": 14,
     "metadata": {},
     "output_type": "execute_result"
    }
   ],
   "source": [
    "print_patient_classes('05029c63a')"
   ]
  },
  {
   "cell_type": "code",
   "execution_count": 15,
   "metadata": {},
   "outputs": [
    {
     "data": {
      "text/html": [
       "<div>\n",
       "<style scoped>\n",
       "    .dataframe tbody tr th:only-of-type {\n",
       "        vertical-align: middle;\n",
       "    }\n",
       "\n",
       "    .dataframe tbody tr th {\n",
       "        vertical-align: top;\n",
       "    }\n",
       "\n",
       "    .dataframe thead th {\n",
       "        text-align: right;\n",
       "    }\n",
       "</style>\n",
       "<table border=\"1\" class=\"dataframe\">\n",
       "  <thead>\n",
       "    <tr style=\"text-align: right;\">\n",
       "      <th></th>\n",
       "      <th>PatientID</th>\n",
       "      <th>Nombre de radiographies</th>\n",
       "    </tr>\n",
       "  </thead>\n",
       "  <tbody>\n",
       "    <tr>\n",
       "      <th>0</th>\n",
       "      <td>05029c63a</td>\n",
       "      <td>172</td>\n",
       "    </tr>\n",
       "    <tr>\n",
       "      <th>1</th>\n",
       "      <td>55073fece</td>\n",
       "      <td>167</td>\n",
       "    </tr>\n",
       "    <tr>\n",
       "      <th>2</th>\n",
       "      <td>26da0d5ad</td>\n",
       "      <td>148</td>\n",
       "    </tr>\n",
       "    <tr>\n",
       "      <th>3</th>\n",
       "      <td>8849382d0</td>\n",
       "      <td>130</td>\n",
       "    </tr>\n",
       "    <tr>\n",
       "      <th>4</th>\n",
       "      <td>34242119f</td>\n",
       "      <td>110</td>\n",
       "    </tr>\n",
       "  </tbody>\n",
       "</table>\n",
       "</div>"
      ],
      "text/plain": [
       "   PatientID  Nombre de radiographies\n",
       "0  05029c63a                      172\n",
       "1  55073fece                      167\n",
       "2  26da0d5ad                      148\n",
       "3  8849382d0                      130\n",
       "4  34242119f                      110"
      ]
     },
     "execution_count": 15,
     "metadata": {},
     "output_type": "execute_result"
    }
   ],
   "source": [
    "#On peut maintenant tracer un graphe montrant l'histogramme du nombre de radiographies par patient\n",
    "\n",
    "idCounts = data['PatientID'].value_counts().reset_index()\n",
    "idCounts.columns = ['PatientID', 'Nombre de radiographies']\n",
    "idCounts = idCounts.sort_values(by = 'Nombre de radiographies', ascending = False)\n",
    "idCounts.head()"
   ]
  },
  {
   "cell_type": "code",
   "execution_count": 16,
   "metadata": {},
   "outputs": [
    {
     "data": {
      "image/png": "[encoded data removed]",
      "text/plain": [
       "<Figure size 432x288 with 1 Axes>"
      ]
     },
     "metadata": {
      "needs_background": "light"
     },
     "output_type": "display_data"
    }
   ],
   "source": [
    "hist=idCounts.hist(bins=100,color='#499fa4')\n",
    "plt.title('Nombre de radiographies par patient')\n",
    "plt.xlabel(\"Nombre de radiographies\")\n",
    "plt.ylabel('Nombre de patients')\n",
    "plt.show()"
   ]
  },
  {
   "cell_type": "markdown",
   "metadata": {},
   "source": [
    "### **Répartition des labels au sein du dataset**"
   ]
  },
  {
   "cell_type": "code",
   "execution_count": 17,
   "metadata": {},
   "outputs": [
    {
     "data": {
      "image/png": "[encoded data removed]",
      "text/plain": [
       "<Figure size 576x576 with 1 Axes>"
      ]
     },
     "metadata": {
      "needs_background": "light"
     },
     "output_type": "display_data"
    }
   ],
   "source": [
    "# On trace d'abord la répartition \"brute\" des classes au sein du dataset\n",
    "\n",
    "plt.figure(figsize=(8, 8))\n",
    "df_tmp = data.iloc[:, :-1].sum()\n",
    "sns.barplot(x=df_tmp.values, y=df_tmp.index)\n",
    "plt.xticks(fontsize=14)\n",
    "plt.yticks(fontsize=14)\n",
    "plt.xlabel(\"Nombre de radiographies\", fontsize=15)\n",
    "plt.title(\"Distribution des labels\", fontsize=16);"
   ]
  },
  {
   "cell_type": "code",
   "execution_count": 18,
   "metadata": {},
   "outputs": [],
   "source": [
    "# On regroupe maintenant les données par type de cathéter, afin de visualiser lesquels sont le plus présents dans nos données\n",
    "cols_dict = {'ETT' : ['ETT - Abnormal', 'ETT - Borderline', 'ETT - Normal'],\n",
    "             'NGT' : ['NGT - Abnormal', 'NGT - Borderline', 'NGT - Incompletely Imaged', 'NGT - Normal'],\n",
    "             'CVC' : [ 'CVC - Abnormal', 'CVC - Borderline', 'CVC - Normal'],\n",
    "             'SGC' : ['Swan Ganz Catheter Present']}\n",
    "counts_dict = {}"
   ]
  },
  {
   "cell_type": "code",
   "execution_count": 19,
   "metadata": {},
   "outputs": [
    {
     "data": {
      "image/png": "[encoded data removed]",
      "text/plain": [
       "<Figure size 864x432 with 1 Axes>"
      ]
     },
     "metadata": {
      "needs_background": "light"
     },
     "output_type": "display_data"
    }
   ],
   "source": [
    "for proc in cols_dict.keys():\n",
    "    counts_dict[proc] = data[data[cols_dict[proc]].sum(axis=1) > 0].shape[0]\n",
    "\n",
    "\n",
    "plt.figure(figsize=[12, 6])\n",
    "plt.bar(height=counts_dict.values(),x=counts_dict.keys(),color=\"#499fa4\")\n",
    "plt.title(\"Répartition de la présence des catheters dans le dataset\")\n",
    "plt.show()"
   ]
  },
  {
   "cell_type": "markdown",
   "metadata": {},
   "source": [
    "## **Données annotées**"
   ]
  },
  {
   "cell_type": "markdown",
   "metadata": {},
   "source": [
    "### **Répartition des données annotées**"
   ]
  },
  {
   "cell_type": "code",
   "execution_count": 20,
   "metadata": {},
   "outputs": [
    {
     "data": {
      "image/png": "[encoded data removed]",
      "text/plain": [
       "<Figure size 864x432 with 1 Axes>"
      ]
     },
     "metadata": {
      "needs_background": "light"
     },
     "output_type": "display_data"
    }
   ],
   "source": [
    "#Le dataset \"train_annotations.csv\" ne contient pas toutes les radiographies du dataset \"train.csv\", nous pouvons \n",
    "# donc visualiser (pour chaque classe), la part de radiographies annotées/non annotées\n",
    "\n",
    "Classes = CLASSES = [\n",
    "    'ETT - Abnormal',\n",
    "    'ETT - Borderline',\n",
    "    'ETT - Normal',\n",
    "    'NGT - Abnormal',\n",
    "    'NGT - Borderline',\n",
    "    'NGT - Incompletely Imaged',\n",
    "    'NGT - Normal',\n",
    "    'CVC - Abnormal',\n",
    "    'CVC - Borderline',\n",
    "    'CVC - Normal',\n",
    "    'Swan Ganz Catheter Present']\n",
    "\n",
    "\n",
    "plt.figure(figsize=[12, 6])\n",
    "\n",
    "data.apply(pd.Series.value_counts).loc[1].plot.barh(label='non annoté', color='#b4cee0')\n",
    "data_annotated['label'].value_counts().reindex(Classes).plot.barh(label='annoté', color=['#499fa4'])\n",
    "\n",
    "legend = plt.legend()\n",
    "plt.title(\"Répartition entre les radiographies annotées et non annotées\")\n",
    "plt.show()"
   ]
  },
  {
   "cell_type": "markdown",
   "metadata": {},
   "source": [
    "### **Tracé des annotations sur une radiographie**"
   ]
  },
  {
   "cell_type": "code",
   "execution_count": 21,
   "metadata": {},
   "outputs": [],
   "source": [
    "# Cette fonction permet de tracer, à partir d'une 'StudyInstanceUID' (l'ID d'une radiographie), les annotations d'un cathéter sur l'image\n",
    "# d'une radiographie\n",
    "def plot_annotations(StudyInstanceUID):\n",
    "    plt.figure(figsize=(8, 8))\n",
    "    \n",
    "    image = cv2.imread(os.path.join(BASE_DIR, \"train\", StudyInstanceUID + \".jpg\"))\n",
    "    image = cv2.cvtColor(image, cv2.COLOR_BGR2RGB)\n",
    "    plt.imshow(image)\n",
    "    \n",
    "    df_patient = data_annotated.loc[data_annotated[\"StudyInstanceUID\"] == StudyInstanceUID]\n",
    "    \n",
    "    if df_patient.shape[0]:        \n",
    "        labels = df_patient[\"label\"].values.tolist()\n",
    "        lines = df_patient[\"data\"].apply(ast.literal_eval).values.tolist()\n",
    "\n",
    "        for line, label in zip(lines, labels):         \n",
    "            line = np.asarray(line)\n",
    "            plt.scatter(line[:, 0], line[:, 1], s=40, label=label)\n",
    "        \n",
    "        plt.legend(bbox_to_anchor=(1.05, 1), loc=2, borderaxespad=0, prop={'size': 20})\n",
    "        \n",
    "    plt.tick_params(axis=\"x\", labelsize=15)\n",
    "    plt.tick_params(axis=\"y\", labelsize=15)\n",
    "    \n",
    "    plt.show()"
   ]
  },
  {
   "cell_type": "code",
   "execution_count": null,
   "metadata": {},
   "outputs": [],
   "source": [
    "image_ids = [\n",
    "    \"1.2.826.0.1.3680043.8.498.83331936392921199432218327504041001669\",\n",
    "    \"1.2.826.0.1.3680043.8.498.11693509889426445054876979814173446281\",\n",
    "    \"1.2.826.0.1.3680043.8.498.15159015355212130418020059688126994534\",\n",
    "    \"1.2.826.0.1.3680043.8.498.53113362093090654004765263538323165995\",\n",
    "    \"1.2.826.0.1.3680043.8.498.11986494099467532772794696144877200064\",\n",
    "    \"1.2.826.0.1.3680043.8.498.72921907356394389969069434057117070831\"\n",
    "]\n",
    "\n",
    "for image_id in image_ids:\n",
    "    plot_annotations(image_id)"
   ]
  }
 ],
 "metadata": {
  "kernelspec": {
   "display_name": "Python 3",
   "language": "python",
   "name": "python3"
  },
  "language_info": {
   "codemirror_mode": {
    "name": "ipython",
    "version": 3
   },
   "file_extension": ".py",
   "mimetype": "text/x-python",
   "name": "python",
   "nbconvert_exporter": "python",
   "pygments_lexer": "ipython3",
   "version": "3.8.2"
  }
 },
 "nbformat": 4,
 "nbformat_minor": 4
}
